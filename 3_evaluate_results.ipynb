{
 "cells": [
  {
   "attachments": {},
   "cell_type": "markdown",
   "metadata": {},
   "source": [
    "## Download the checkpoint files\n",
    "Manual: download the [checkpoint files](https://storage.googleapis.com/cloud-tpu-checkpoints/detection/projects/fashionpedia/fashionpedia-spinenet-143.tar.gz), unzip to `lib/detection/checkpoint/`. "
   ]
  },
  {
   "cell_type": "code",
   "execution_count": null,
   "metadata": {},
   "outputs": [],
   "source": [
    "!curl https://storage.googleapis.com/cloud-tpu-checkpoints/detection/projects/fashionpedia/fashionpedia-spinenet-143.tar.gz -o lib/detection/checkpoint/fashionpedia-spinenet-143.tar.gz\n",
    "!unzip lib/detection/checkpoint/fashionpedia-spinenet-143.tar.gz d lib/detection/checkpoint\n",
    "!rm lib/detection/checkpoint/fashionpedia-spinenet-143.tar.gz"
   ]
  },
  {
   "attachments": {},
   "cell_type": "markdown",
   "metadata": {},
   "source": [
    "## Evaluation\n",
    "Place the images in `eval/input`"
   ]
  },
  {
   "cell_type": "code",
   "execution_count": null,
   "metadata": {},
   "outputs": [],
   "source": [
    "%cd lib/detection\n",
    "\n",
    "!python3.11 inference.py\n",
    "\n",
    "%cd ../.."
   ]
  },
  {
   "cell_type": "code",
   "execution_count": null,
   "metadata": {},
   "outputs": [],
   "source": [
    "from IPython.display import HTML\n",
    "HTML(filename='eval/output/res.html')"
   ]
  },
  {
   "cell_type": "code",
   "execution_count": null,
   "metadata": {},
   "outputs": [],
   "source": [
    "import numpy as np\n",
    "\n",
    "res = np.load('eval/output/res.npy', allow_pickle=True)"
   ]
  },
  {
   "cell_type": "code",
   "execution_count": null,
   "metadata": {},
   "outputs": [],
   "source": [
    "import csv\n",
    "\n",
    "CLASSES = {}\n",
    "with open('lib/detection/projects/fashionpedia/dataset/fashionpedia_label_map.csv') as csv_file:\n",
    "    for row in csv.reader(csv_file, delimiter=':'):\n",
    "        id_index, name = row\n",
    "        CLASSES[int(id_index)] = name"
   ]
  },
  {
   "cell_type": "code",
   "execution_count": null,
   "metadata": {},
   "outputs": [],
   "source": [
    "import json\n",
    "\n",
    "with open('eval/classes_attributes.json') as f:\n",
    "    ATTRIBUTES = json.load(f)"
   ]
  },
  {
   "cell_type": "code",
   "execution_count": null,
   "metadata": {},
   "outputs": [],
   "source": [
    "import matplotlib.pyplot as plt\n",
    "from IPython.display import Image\n",
    "\n",
    "subject, item, topn = 1, 0, 20\n",
    "\n",
    "pred_class = CLASSES[res[subject]['classes'][item]]\n",
    "\n",
    "pred_scores = {att: score for att, score in zip(ATTRIBUTES, res[subject]['attributes'][item])}\n",
    "pred_sorted = sorted(pred_scores.items(), key=lambda x: x[1], reverse=True)[:topn]\n",
    "\n",
    "labels, scores = zip(*pred_sorted)\n",
    "\n",
    "plt.barh(labels, scores)\n",
    "plt.title(f'top {topn} predicted attributes for {pred_class}')\n",
    "plt.show()\n",
    "\n",
    "filename = res[subject]['image_file'].removeprefix('../../')\n",
    "Image(filename=filename, retina=True)"
   ]
  }
 ],
 "metadata": {
  "kernelspec": {
   "display_name": "Python 3",
   "language": "python",
   "name": "python3"
  },
  "language_info": {
   "codemirror_mode": {
    "name": "ipython",
    "version": 3
   },
   "file_extension": ".py",
   "mimetype": "text/x-python",
   "name": "python",
   "nbconvert_exporter": "python",
   "pygments_lexer": "ipython3",
   "version": "3.11.2"
  }
 },
 "nbformat": 4,
 "nbformat_minor": 2
}
