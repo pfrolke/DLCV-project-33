{
 "cells": [
  {
   "cell_type": "code",
   "execution_count": null,
   "metadata": {},
   "outputs": [],
   "source": [
    "import torch\n",
    "import torch.nn as nn\n",
    "import numpy as np\n",
    "from torchvision.models import vgg19, VGG19_Weights"
   ]
  },
  {
   "cell_type": "code",
   "execution_count": null,
   "metadata": {},
   "outputs": [],
   "source": [
    "class ConvStyleTransfer(nn.Module):\n",
    "\tdef __init__(self, input, output):\n",
    "\t\tsuper.__init__()\n",
    "\t\t# Todo select the first 16 conv and 5 maxpool layers from vgg19\n",
    "\t\t\n",
    "\n",
    "\n",
    "\n",
    "\n"
   ]
  },
  {
   "cell_type": "code",
   "execution_count": null,
   "metadata": {},
   "outputs": [],
   "source": [
    "def content_loss(target, generated):\n",
    "\tlayers = [] # Todo layers\n",
    "\ttotal = 0\n",
    "\tfor l in layers:\n",
    "\t\tloss = nn.MSELoss()\n",
    "\t\ttotal += loss(target[l], generated[l])\n",
    "\t\n",
    "\treturn total*0.5"
   ]
  },
  {
   "cell_type": "code",
   "execution_count": null,
   "metadata": {},
   "outputs": [],
   "source": [
    "def style_loss(style, generated):\n",
    "\tlayers = []  # Todo layers\n",
    "\ttotal = 0\n",
    "\tweight = 1 / len(layers) # Todo weight\n",
    "\tfor l in layers:\n",
    "\t\tloss = nn.MSELoss()\n",
    "\t\toutput = loss(style[l], generated[l])\n",
    "\t\tN = l.N # Todo number of distinct filter/feature maps in layer\n",
    "\t\tM = l.M # Todo height times width of feature maps\n",
    "\t\ttotal += weight * output / (4 * N**2 * M**2)\n",
    "\n",
    "\treturn total"
   ]
  },
  {
   "cell_type": "code",
   "execution_count": null,
   "metadata": {},
   "outputs": [],
   "source": [
    "def total_loss(target, style, generated, alpha, beta):\n",
    "    return alpha * content_loss(target, generated) + beta * style_loss(style, generated)"
   ]
  }
 ],
 "metadata": {
  "kernelspec": {
   "display_name": "base",
   "language": "python",
   "name": "python3"
  },
  "language_info": {
   "codemirror_mode": {
    "name": "ipython",
    "version": 3
   },
   "file_extension": ".py",
   "mimetype": "text/x-python",
   "name": "python",
   "nbconvert_exporter": "python",
   "pygments_lexer": "ipython3",
   "version": "3.10.9"
  }
 },
 "nbformat": 4,
 "nbformat_minor": 2
}
