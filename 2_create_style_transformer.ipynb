{
 "cells": [
  {
   "cell_type": "code",
   "execution_count": null,
   "metadata": {},
   "outputs": [],
   "source": [
    "%load_ext autoreload\n",
    "%autoreload 2\n",
    "import torch\n",
    "from models.vgg19style import VGG19Style, VGG19Style2\n",
    "from lib.fashionpedia_processed import FashionPediaProcessed\n",
    "from tqdm.autonotebook import tqdm"
   ]
  },
  {
   "cell_type": "code",
   "execution_count": null,
   "metadata": {},
   "outputs": [],
   "source": [
    "# load model\n",
    "model = VGG19Style2(32)"
   ]
  },
  {
   "cell_type": "code",
   "execution_count": null,
   "metadata": {},
   "outputs": [],
   "source": [
    "# load dataset\n",
    "data = FashionPediaProcessed()\n",
    "data_loader = torch.utils.data.DataLoader(\n",
    "    data, batch_size=16, shuffle=True)"
   ]
  },
  {
   "cell_type": "code",
   "execution_count": null,
   "metadata": {},
   "outputs": [],
   "source": [
    "optimizer = torch.optim.Adam(model.parameters(), lr= 0.0001)\n",
    "loss_fn = torch.nn.BCELoss()\n",
    "\n",
    "def train_one_epoch():\n",
    "    running_loss = 0.\n",
    "    num_batches = 0\n",
    "\n",
    "    for batch in tqdm(data_loader):\n",
    "        optimizer.zero_grad()\n",
    "\n",
    "        outputs = model(batch['img'])\n",
    "\n",
    "        # Compute the loss and its gradients\n",
    "        loss = loss_fn(outputs, batch['att_oh'])\n",
    "        loss.backward()\n",
    "\n",
    "        # Adjust learning weights\n",
    "        optimizer.step()\n",
    "\n",
    "        # Gather data and report\n",
    "        running_loss += loss.item()\n",
    "        num_batches += 1\n",
    "\n",
    "    return running_loss / num_batches"
   ]
  },
  {
   "cell_type": "code",
   "execution_count": null,
   "metadata": {},
   "outputs": [],
   "source": [
    "EPOCHS = 200\n",
    "\n",
    "best_test_loss = 1_000_000.\n",
    "\n",
    "for epoch in range(EPOCHS):\n",
    "    print('\\nEPOCH {}:'.format(epoch + 1))\n",
    "\n",
    "    # Make sure gradient tracking is on, and do a pass over the data\n",
    "    model.train(True)\n",
    "    avg_loss = train_one_epoch()\n",
    "\n",
    "    # Log the running loss averaged per batch\n",
    "    # for both training and validation\n",
    "    print(f'Training Loss: {avg_loss}')"
   ]
  },
  {
   "cell_type": "code",
   "execution_count": null,
   "metadata": {},
   "outputs": [],
   "source": [
    "def content_loss(target, generated):\n",
    "\tlayers = [] # Todo layers\n",
    "\ttotal = 0\n",
    "\tfor l in layers:\n",
    "\t\tloss = nn.MSELoss()\n",
    "\t\ttotal += loss(target[l], generated[l])\n",
    "\t\n",
    "\treturn total*0.5"
   ]
  },
  {
   "cell_type": "code",
   "execution_count": null,
   "metadata": {},
   "outputs": [],
   "source": [
    "def style_loss(style, generated):\n",
    "\tlayers = []  # Todo layers\n",
    "\ttotal = 0\n",
    "\tweight = 1 / len(layers) # Todo weight\n",
    "\tfor l in layers:\n",
    "\t\tloss = nn.MSELoss()\n",
    "\t\toutput = loss(style[l], generated[l])\n",
    "\t\tN = l.N # Todo number of distinct filter/feature maps in layer\n",
    "\t\tM = l.M # Todo height times width of feature maps\n",
    "\t\ttotal += weight * output / (4 * N**2 * M**2)\n",
    "\n",
    "\treturn total"
   ]
  },
  {
   "cell_type": "code",
   "execution_count": null,
   "metadata": {},
   "outputs": [],
   "source": [
    "def total_loss(target, style, generated, alpha, beta):\n",
    "    return alpha * content_loss(target, generated) + beta * style_loss(style, generated)"
   ]
  },
  {
   "cell_type": "code",
   "execution_count": null,
   "metadata": {},
   "outputs": [],
   "source": [
    "import matplotlib.pyplot as plt\n",
    "import json\n",
    "\n",
    "target_item = data[2]\n",
    "\n",
    "target = target_item['img'].clone().requires_grad_(True)\n",
    "\n",
    "with open('fashionpedia/selected_attributes.json') as f:\n",
    "    s_att = list(json.load(f).values())\n",
    "\n",
    "print('attributes:', [s_att[i] for i, v in enumerate(target_item['att_oh']) if v])\n",
    "\n",
    "for i in range(2000):\n",
    "    if i % 500 == 0:\n",
    "        plt.imshow(target.detach().permute(1,2,0))\n",
    "        plt.show()\n"
   ]
  }
 ],
 "metadata": {
  "kernelspec": {
   "display_name": "base",
   "language": "python",
   "name": "python3"
  },
  "language_info": {
   "codemirror_mode": {
    "name": "ipython",
    "version": 3
   },
   "file_extension": ".py",
   "mimetype": "text/x-python",
   "name": "python",
   "nbconvert_exporter": "python",
   "pygments_lexer": "ipython3",
   "version": "3.11.2"
  }
 },
 "nbformat": 4,
 "nbformat_minor": 2
}
