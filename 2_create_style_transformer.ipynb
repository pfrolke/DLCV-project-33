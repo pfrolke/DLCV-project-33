{
 "cells": [
  {
   "cell_type": "code",
   "execution_count": null,
   "metadata": {},
   "outputs": [],
   "source": [
    "%load_ext autoreload\n",
    "%autoreload 2\n",
    "import torch\n",
    "from models.vgg19style import VGG19Style, VGG19Style2\n",
    "from lib.fashionpedia_processed import FashionPediaProcessed"
   ]
  },
  {
   "cell_type": "code",
   "execution_count": null,
   "metadata": {},
   "outputs": [],
   "source": [
    "# load model\n",
    "model = VGG19Style2(32)"
   ]
  },
  {
   "cell_type": "code",
   "execution_count": null,
   "metadata": {},
   "outputs": [],
   "source": [
    "# load dataset\n",
    "data = FashionPediaProcessed()\n",
    "data_loader = torch.utils.data.DataLoader(\n",
    "    data, batch_size=16, shuffle=True)"
   ]
  },
  {
   "cell_type": "code",
   "execution_count": null,
   "metadata": {},
   "outputs": [],
   "source": [
    "import matplotlib.pyplot as plt\n",
    "\n",
    "plt.imshow(data[2]['img'].permute(1, 2, 0))\n",
    "plt.show()"
   ]
  },
  {
   "cell_type": "code",
   "execution_count": null,
   "metadata": {},
   "outputs": [],
   "source": [
    "from tqdm.autonotebook import tqdm\n",
    "\n",
    "optimizer = torch.optim.Adam(model.parameters(), lr= 0.0001)\n",
    "\n",
    "def train_one_epoch(epoch_index):\n",
    "    running_loss = 0.\n",
    "    num_batches = 0\n",
    "    last_loss = -1\n",
    "\n",
    "    # Here, we use enumerate(training_loader) instead of\n",
    "    # iter(training_loader) so that we can track the batch\n",
    "    # index and do some intra-epoch reporting\n",
    "    for i, dat in enumerate(tqdm(data_loader)):\n",
    "        # Every data instance is an input + label pair\n",
    "\n",
    "        print(dat) \n",
    "        inputs = dat['img']\n",
    "\n",
    "        print(inputs.shape)\n",
    "\n",
    "        # Zero your gradients for every batch!\n",
    "        optimizer.zero_grad()\n",
    "\n",
    "        # Make predictions for this batch\n",
    "        outputs = model(inputs)\n",
    "\n",
    "        # Compute the loss and its gradients\n",
    "        loss = torch.nn.BCELoss(outputs, dat['att_oh'])\n",
    "        loss.backward()\n",
    "\n",
    "        # Adjust learning weights\n",
    "        optimizer.step()\n",
    "\n",
    "        # Gather data and report\n",
    "        running_loss += loss.item()\n",
    "        num_batches += 1\n",
    "\n",
    "        if i % 100 == 99:\n",
    "            last_loss = running_loss / 100  # loss per batch\n",
    "            print('  batch {} loss: {}'.format(i + 1, last_loss))\n",
    "            tb_x = epoch_index * len(data_loader) + i + 1\n",
    "            print('Loss/train', last_loss, tb_x)\n",
    "            running_loss = 0.\n",
    "\n",
    "    return last_loss\n",
    "\n",
    "\n",
    "# Initializing in a separate cell so we can easily add more epochs to the same run\n",
    "EPOCHS = 200\n",
    "\n",
    "best_test_loss = 1_000_000.\n",
    "\n",
    "for epoch in range(EPOCHS):\n",
    "    print('\\nEPOCH {}:'.format(epoch + 1))\n",
    "\n",
    "    # Make sure gradient tracking is on, and do a pass over the data\n",
    "    model.train(True)\n",
    "    avg_loss = train_one_epoch(epoch)\n",
    "\n",
    "    print(f'LOSS train {avg_loss}')\n",
    "\n",
    "    # Log the running loss averaged per batch\n",
    "    # for both training and validation\n",
    "    print('Training vs. Validation Loss',\n",
    "            {'Training': avg_loss},\n",
    "            epoch + 1)\n",
    "\n",
    "    epoch += 1"
   ]
  },
  {
   "cell_type": "code",
   "execution_count": null,
   "metadata": {},
   "outputs": [],
   "source": [
    "def content_loss(target, generated):\n",
    "\tlayers = [] # Todo layers\n",
    "\ttotal = 0\n",
    "\tfor l in layers:\n",
    "\t\tloss = nn.MSELoss()\n",
    "\t\ttotal += loss(target[l], generated[l])\n",
    "\t\n",
    "\treturn total*0.5"
   ]
  },
  {
   "cell_type": "code",
   "execution_count": null,
   "metadata": {},
   "outputs": [],
   "source": [
    "def style_loss(style, generated):\n",
    "\tlayers = []  # Todo layers\n",
    "\ttotal = 0\n",
    "\tweight = 1 / len(layers) # Todo weight\n",
    "\tfor l in layers:\n",
    "\t\tloss = nn.MSELoss()\n",
    "\t\toutput = loss(style[l], generated[l])\n",
    "\t\tN = l.N # Todo number of distinct filter/feature maps in layer\n",
    "\t\tM = l.M # Todo height times width of feature maps\n",
    "\t\ttotal += weight * output / (4 * N**2 * M**2)\n",
    "\n",
    "\treturn total"
   ]
  },
  {
   "cell_type": "code",
   "execution_count": null,
   "metadata": {},
   "outputs": [],
   "source": [
    "def total_loss(target, style, generated, alpha, beta):\n",
    "    return alpha * content_loss(target, generated) + beta * style_loss(style, generated)"
   ]
  }
 ],
 "metadata": {
  "kernelspec": {
   "display_name": "base",
   "language": "python",
   "name": "python3"
  },
  "language_info": {
   "codemirror_mode": {
    "name": "ipython",
    "version": 3
   },
   "file_extension": ".py",
   "mimetype": "text/x-python",
   "name": "python",
   "nbconvert_exporter": "python",
   "pygments_lexer": "ipython3",
   "version": "3.11.2"
  }
 },
 "nbformat": 4,
 "nbformat_minor": 2
}
